{
 "cells": [
  {
   "cell_type": "code",
   "execution_count": 1,
   "metadata": {},
   "outputs": [],
   "source": [
    "import numpy as np\n",
    "import pandas as pd\n",
    "from os.path import join\n",
    "from sklearn.model_selection import train_test_split\n",
    "from tensorflow.python import keras\n",
    "from tensorflow.python.keras.models import Sequential\n",
    "from tensorflow.python.keras.layers import Dense, Flatten, Conv2D, Dropout\n",
    "from tensorflow.keras.preprocessing.image import ImageDataGenerator\n",
    "from tensorflow.python.keras.preprocessing.image import load_img, img_to_array\n",
    "import glob\n",
    "from IPython.display import Image, display\n",
    "import matplotlib.pyplot as plt\n",
    "from tensorflow import keras\n",
    "#from tensorflow.python.keras.applications.ResNet50 import preprocess_input\n",
    "%matplotlib inline"
   ]
  },
  {
   "cell_type": "code",
   "execution_count": 1,
   "metadata": {},
   "outputs": [
    {
     "name": "stderr",
     "output_type": "stream",
     "text": [
      "'wget' is not recognized as an internal or external command,\n",
      "operable program or batch file.\n"
     ]
    }
   ],
   "source": [
    "import wget\n",
    "!wget -O loan_train.csv https://s3-api.us-geo.objectstorage.softlayer.net/cf-courses-data/CognitiveClass/ML0101ENv3/labs/loan_train.csv"
   ]
  },
  {
   "cell_type": "code",
   "execution_count": 3,
   "metadata": {},
   "outputs": [],
   "source": [
    "img_dir='./question_1_dataset/train/'"
   ]
  },
  {
   "cell_type": "code",
   "execution_count": 25,
   "metadata": {},
   "outputs": [
    {
     "data": {
      "text/plain": [
       "4465"
      ]
     },
     "execution_count": 25,
     "metadata": {},
     "output_type": "execute_result"
    }
   ],
   "source": [
    "total_imgs=len(glob.glob(img_dir+'/*.png'))\n",
    "total_imgs"
   ]
  },
  {
   "cell_type": "code",
   "execution_count": 4,
   "metadata": {},
   "outputs": [
    {
     "data": {
      "text/plain": [
       "4465"
      ]
     },
     "execution_count": 4,
     "metadata": {},
     "output_type": "execute_result"
    }
   ],
   "source": [
    "fnames=['{}.png'.format(i) for i in range(1,total_imgs+1)]\n",
    "len(fnames)"
   ]
  },
  {
   "cell_type": "code",
   "execution_count": 5,
   "metadata": {},
   "outputs": [],
   "source": [
    "img_paths=[join(img_dir,filename) for filename in fnames]"
   ]
  },
  {
   "cell_type": "code",
   "execution_count": 6,
   "metadata": {},
   "outputs": [],
   "source": [
    "imgs=[load_img(img_path,target_size=(100,100)) for img_path in img_paths]"
   ]
  },
  {
   "cell_type": "code",
   "execution_count": 7,
   "metadata": {},
   "outputs": [
    {
     "data": {
      "text/plain": [
       "4465"
      ]
     },
     "execution_count": 7,
     "metadata": {},
     "output_type": "execute_result"
    }
   ],
   "source": [
    "len(imgs)"
   ]
  },
  {
   "cell_type": "code",
   "execution_count": 8,
   "metadata": {},
   "outputs": [],
   "source": [
    "img_array = np.array([img_to_array(img) for img in imgs])\n",
    "img_array=img_array/255"
   ]
  },
  {
   "cell_type": "code",
   "execution_count": 9,
   "metadata": {},
   "outputs": [
    {
     "data": {
      "text/plain": [
       "(4465, 100, 100, 3)"
      ]
     },
     "execution_count": 9,
     "metadata": {},
     "output_type": "execute_result"
    }
   ],
   "source": [
    "img_array.shape"
   ]
  },
  {
   "cell_type": "code",
   "execution_count": 10,
   "metadata": {},
   "outputs": [
    {
     "data": {
      "image/png": "[encoded data removed]",
      "text/plain": [
       "<IPython.core.display.Image object>"
      ]
     },
     "metadata": {},
     "output_type": "display_data"
    }
   ],
   "source": [
    "display(Image(img_paths[4464]))"
   ]
  },
  {
   "cell_type": "code",
   "execution_count": 11,
   "metadata": {},
   "outputs": [],
   "source": [
    "from tensorflow.keras.utils import to_categorical\n",
    "x=img_array\n",
    "df=pd.read_csv('./question_1_dataset/train.csv')\n",
    "y_out=np.array(df['category'])\n",
    "y=to_categorical(y_out)\n",
    "y=y[:,1:]\n",
    "\n",
    "x_train,x_cv,y_train,y_cv=train_test_split(x,y,test_size=0.2,random_state=4)\n"
   ]
  },
  {
   "cell_type": "code",
   "execution_count": 12,
   "metadata": {},
   "outputs": [],
   "source": [
    "data_generator_with_aug = ImageDataGenerator( horizontal_flip = True,\n",
    "                                              width_shift_range = 0.1,\n",
    "                                              height_shift_range = 0.1,validation_split=0.2)\n",
    "            \n",
    "data_generator_no_aug = ImageDataGenerator()\n"
   ]
  },
  {
   "cell_type": "code",
   "execution_count": 13,
   "metadata": {},
   "outputs": [],
   "source": [
    "model=Sequential()\n",
    "model.add(Conv2D(20,kernel_size=3,activation='relu',input_shape=(100,100,3)))\n",
    "model.add(Conv2D(20,kernel_size=3,activation='relu'))\n",
    "model.add(Conv2D(20,kernel_size=3,activation='relu'))\n",
    "model.add(Flatten())\n",
    "model.add(Dense(100,activation='relu'))\n",
    "model.add(Dense(16,activation='softmax'))\n"
   ]
  },
  {
   "cell_type": "code",
   "execution_count": 14,
   "metadata": {},
   "outputs": [],
   "source": [
    "image_size=100\n",
    "i=0\n",
    "#train_generator = data_generator_with_aug.flow_from_directory(\n",
    " #       './question_1_dataset/train/',target_size=(150,150),batch_size=32,class_mode='categorical'\n",
    "  #      )\n",
    "train_generator = data_generator_with_aug.flow(\n",
    "        x_train,y_train,batch_size=100\n",
    "        )\n",
    "\n"
   ]
  },
  {
   "cell_type": "code",
   "execution_count": 15,
   "metadata": {},
   "outputs": [
    {
     "name": "stdout",
     "output_type": "stream",
     "text": [
      "WARNING:tensorflow:From <ipython-input-15-b62837c7b287>:5: Model.fit_generator (from tensorflow.python.keras.engine.training) is deprecated and will be removed in a future version.\n",
      "Instructions for updating:\n",
      "Please use Model.fit, which supports generators.\n",
      "WARNING:tensorflow:sample_weight modes were coerced from\n",
      "  ...\n",
      "    to  \n",
      "  ['...']\n",
      "Train for 30 steps, validate on 893 samples\n",
      "Epoch 1/10\n",
      "30/30 [==============================] - 61s 2s/step - loss: 2.1919 - accuracy: 0.2554 - val_loss: 1.6302 - val_accuracy: 0.3483\n",
      "Epoch 2/10\n",
      "30/30 [==============================] - 64s 2s/step - loss: 1.5605 - accuracy: 0.4159 - val_loss: 1.2825 - val_accuracy: 0.4826\n",
      "Epoch 3/10\n",
      "30/30 [==============================] - 57s 2s/step - loss: 1.3921 - accuracy: 0.4613 - val_loss: 1.2134 - val_accuracy: 0.5196\n",
      "Epoch 4/10\n",
      "30/30 [==============================] - 60s 2s/step - loss: 1.2815 - accuracy: 0.5101 - val_loss: 1.2396 - val_accuracy: 0.5274\n",
      "Epoch 5/10\n",
      "30/30 [==============================] - 65s 2s/step - loss: 1.1840 - accuracy: 0.5575 - val_loss: 1.2171 - val_accuracy: 0.5039\n",
      "Epoch 6/10\n",
      "30/30 [==============================] - 62s 2s/step - loss: 1.1340 - accuracy: 0.5585 - val_loss: 1.2490 - val_accuracy: 0.5297\n",
      "Epoch 7/10\n",
      "30/30 [==============================] - 66s 2s/step - loss: 1.1109 - accuracy: 0.5676 - val_loss: 1.0930 - val_accuracy: 0.6114\n",
      "Epoch 8/10\n",
      "30/30 [==============================] - 58s 2s/step - loss: 1.0488 - accuracy: 0.5821 - val_loss: 1.1625 - val_accuracy: 0.5588\n",
      "Epoch 9/10\n",
      "30/30 [==============================] - 58s 2s/step - loss: 1.0463 - accuracy: 0.6040 - val_loss: 1.2095 - val_accuracy: 0.5700\n",
      "Epoch 10/10\n",
      "30/30 [==============================] - 58s 2s/step - loss: 0.9874 - accuracy: 0.6107 - val_loss: 0.9447 - val_accuracy: 0.6585\n"
     ]
    },
    {
     "data": {
      "text/plain": [
       "<tensorflow.python.keras.callbacks.History at 0x17d8a14a188>"
      ]
     },
     "execution_count": 15,
     "metadata": {},
     "output_type": "execute_result"
    }
   ],
   "source": [
    "model.compile(loss='categorical_crossentropy',optimizer='adam',metrics=['accuracy'])\n",
    "model.fit_generator(\n",
    "        train_generator,\n",
    "        epochs = 10,\n",
    "        steps_per_epoch=30,validation_data=(x_cv,y_cv))"
   ]
  },
  {
   "cell_type": "code",
   "execution_count": 18,
   "metadata": {},
   "outputs": [],
   "source": [
    "yhat=model.predict(x_cv)\n",
    "yhat=yhat.argmax(axis=1)+1\n",
    "y_cv=y_cv.argmax(axis=1)+1\n",
    "\n"
   ]
  },
  {
   "cell_type": "code",
   "execution_count": 19,
   "metadata": {},
   "outputs": [
    {
     "data": {
      "text/plain": [
       "0.6361793174229131"
      ]
     },
     "execution_count": 19,
     "metadata": {},
     "output_type": "execute_result"
    }
   ],
   "source": [
    "from sklearn.metrics import f1_score\n",
    "f1_score(y_cv, yhat, average='weighted')\n"
   ]
  },
  {
   "cell_type": "code",
   "execution_count": 29,
   "metadata": {},
   "outputs": [
    {
     "name": "stdout",
     "output_type": "stream",
     "text": [
      "Train on 3572 samples, validate on 893 samples\n",
      "Epoch 1/10\n",
      "3572/3572 [==============================] - 74s 21ms/sample - loss: 0.5833 - accuracy: 0.7802 - val_loss: 0.5275 - val_accuracy: 0.7940\n",
      "Epoch 2/10\n",
      "3572/3572 [==============================] - 69s 19ms/sample - loss: 0.2265 - accuracy: 0.9132 - val_loss: 0.5491 - val_accuracy: 0.8175\n",
      "Epoch 3/10\n",
      "3572/3572 [==============================] - 64s 18ms/sample - loss: 0.1390 - accuracy: 0.9426 - val_loss: 0.5921 - val_accuracy: 0.8108\n",
      "Epoch 4/10\n",
      "3572/3572 [==============================] - 63s 18ms/sample - loss: 0.0896 - accuracy: 0.9647 - val_loss: 0.6058 - val_accuracy: 0.8029\n",
      "Epoch 5/10\n",
      "3572/3572 [==============================] - 81s 23ms/sample - loss: 0.0579 - accuracy: 0.9748 - val_loss: 0.5090 - val_accuracy: 0.8387\n",
      "Epoch 6/10\n",
      "3572/3572 [==============================] - 78s 22ms/sample - loss: 0.0501 - accuracy: 0.9798 - val_loss: 0.5408 - val_accuracy: 0.8264\n",
      "Epoch 7/10\n",
      "3572/3572 [==============================] - 77s 22ms/sample - loss: 0.0255 - accuracy: 0.9891 - val_loss: 0.6620 - val_accuracy: 0.8108\n",
      "Epoch 8/10\n",
      "3572/3572 [==============================] - 78s 22ms/sample - loss: 0.0222 - accuracy: 0.9913 - val_loss: 0.6737 - val_accuracy: 0.8208\n",
      "Epoch 9/10\n",
      "3572/3572 [==============================] - 76s 21ms/sample - loss: 0.0282 - accuracy: 0.9913 - val_loss: 0.6433 - val_accuracy: 0.8208\n",
      "Epoch 10/10\n",
      "3572/3572 [==============================] - 79s 22ms/sample - loss: 0.0137 - accuracy: 0.9958 - val_loss: 0.7038 - val_accuracy: 0.8231\n"
     ]
    },
    {
     "data": {
      "text/plain": [
       "<tensorflow.python.keras.callbacks.History at 0x17d985a4ac8>"
      ]
     },
     "execution_count": 29,
     "metadata": {},
     "output_type": "execute_result"
    }
   ],
   "source": [
    "model.compile(loss='categorical_crossentropy',optimizer='adam',metrics=['accuracy'])\n",
    "model.fit(x,y,batch_size=50,epochs=10,validation_split=0.2)"
   ]
  },
  {
   "cell_type": "code",
   "execution_count": 34,
   "metadata": {},
   "outputs": [
    {
     "data": {
      "text/plain": [
       "0.9636753030440856"
      ]
     },
     "execution_count": 34,
     "metadata": {},
     "output_type": "execute_result"
    }
   ],
   "source": [
    "\n",
    "yhat=model.predict(x)\n",
    "yhat=yhat.argmax(axis=1)+1\n",
    "\n",
    "from sklearn.metrics import f1_score\n",
    "f1_score(y_out, yhat, average='weighted')"
   ]
  },
  {
   "cell_type": "code",
   "execution_count": 26,
   "metadata": {},
   "outputs": [],
   "source": [
    "\n",
    "img_dir_test='./question_1_dataset/test/'\n",
    "total_imgs_test=len(glob.glob(img_dir_test+'/*.png'))\n",
    "fnames_test=['{}.png'.format(i) for i in range(total_imgs+1,total_imgs+total_imgs_test+1)]\n",
    "img_paths_test=[join(img_dir_test,filename) for filename in fnames_test]\n",
    "imgs_test=[load_img(img_path_test,target_size=(100,100)) for img_path_test in img_paths_test]\n",
    "img_array_test = np.array([img_to_array(img) for img in imgs_test])\n",
    "img_array_test=img_array_test/255\n",
    "\n"
   ]
  },
  {
   "cell_type": "code",
   "execution_count": 32,
   "metadata": {},
   "outputs": [],
   "source": [
    "x_test=img_array_test\n",
    "yhat_test=model.predict(x_test)\n",
    "yhat_test=yhat_test.argmax(axis=1)+1\n"
   ]
  },
  {
   "cell_type": "code",
   "execution_count": 37,
   "metadata": {},
   "outputs": [
    {
     "data": {
      "text/plain": [
       "(6379,)"
      ]
     },
     "execution_count": 37,
     "metadata": {},
     "output_type": "execute_result"
    }
   ],
   "source": [
    "y_final=np.hstack([yhat,yhat_test])\n",
    "y_final.shape"
   ]
  },
  {
   "cell_type": "code",
   "execution_count": 50,
   "metadata": {},
   "outputs": [],
   "source": [
    "import csv"
   ]
  },
  {
   "cell_type": "code",
   "execution_count": 67,
   "metadata": {},
   "outputs": [],
   "source": [
    "with open(\"./question_1_dataset/Testfinal.csv\",\"w\") as file:\n",
    "    writer=csv.writer(file)\n",
    "    for i in range(total_imgs):\n",
    "        writer.writerow([fnames[i],yhat[i]])\n",
    "    for i in range(total_imgs_test):\n",
    "        writer.writerow([fnames_test[i],yhat_test[i]])\n"
   ]
  },
  {
   "cell_type": "code",
   "execution_count": 68,
   "metadata": {},
   "outputs": [],
   "source": [
    "df=pd.read_csv('./question_1_dataset/Testfinal.csv')"
   ]
  },
  {
   "cell_type": "code",
   "execution_count": 65,
   "metadata": {},
   "outputs": [
    {
     "data": {
      "text/html": [
       "<div>\n",
       "<style scoped>\n",
       "    .dataframe tbody tr th:only-of-type {\n",
       "        vertical-align: middle;\n",
       "    }\n",
       "\n",
       "    .dataframe tbody tr th {\n",
       "        vertical-align: top;\n",
       "    }\n",
       "\n",
       "    .dataframe thead th {\n",
       "        text-align: right;\n",
       "    }\n",
       "</style>\n",
       "<table border=\"1\" class=\"dataframe\">\n",
       "  <thead>\n",
       "    <tr style=\"text-align: right;\">\n",
       "      <th></th>\n",
       "      <th>1.png</th>\n",
       "      <th>9</th>\n",
       "    </tr>\n",
       "  </thead>\n",
       "  <tbody>\n",
       "    <tr>\n",
       "      <th>0</th>\n",
       "      <td>2.png</td>\n",
       "      <td>3</td>\n",
       "    </tr>\n",
       "    <tr>\n",
       "      <th>1</th>\n",
       "      <td>3.png</td>\n",
       "      <td>9</td>\n",
       "    </tr>\n",
       "    <tr>\n",
       "      <th>2</th>\n",
       "      <td>4.png</td>\n",
       "      <td>8</td>\n",
       "    </tr>\n",
       "    <tr>\n",
       "      <th>3</th>\n",
       "      <td>5.png</td>\n",
       "      <td>13</td>\n",
       "    </tr>\n",
       "    <tr>\n",
       "      <th>4</th>\n",
       "      <td>6.png</td>\n",
       "      <td>7</td>\n",
       "    </tr>\n",
       "    <tr>\n",
       "      <th>...</th>\n",
       "      <td>...</td>\n",
       "      <td>...</td>\n",
       "    </tr>\n",
       "    <tr>\n",
       "      <th>6373</th>\n",
       "      <td>6375.png</td>\n",
       "      <td>8</td>\n",
       "    </tr>\n",
       "    <tr>\n",
       "      <th>6374</th>\n",
       "      <td>6376.png</td>\n",
       "      <td>13</td>\n",
       "    </tr>\n",
       "    <tr>\n",
       "      <th>6375</th>\n",
       "      <td>6377.png</td>\n",
       "      <td>7</td>\n",
       "    </tr>\n",
       "    <tr>\n",
       "      <th>6376</th>\n",
       "      <td>6378.png</td>\n",
       "      <td>3</td>\n",
       "    </tr>\n",
       "    <tr>\n",
       "      <th>6377</th>\n",
       "      <td>6379.png</td>\n",
       "      <td>10</td>\n",
       "    </tr>\n",
       "  </tbody>\n",
       "</table>\n",
       "<p>6378 rows × 2 columns</p>\n",
       "</div>"
      ],
      "text/plain": [
       "         1.png   9\n",
       "0        2.png   3\n",
       "1        3.png   9\n",
       "2        4.png   8\n",
       "3        5.png  13\n",
       "4        6.png   7\n",
       "...        ...  ..\n",
       "6373  6375.png   8\n",
       "6374  6376.png  13\n",
       "6375  6377.png   7\n",
       "6376  6378.png   3\n",
       "6377  6379.png  10\n",
       "\n",
       "[6378 rows x 2 columns]"
      ]
     },
     "execution_count": 65,
     "metadata": {},
     "output_type": "execute_result"
    }
   ],
   "source": [
    "df"
   ]
  },
  {
   "cell_type": "code",
   "execution_count": 1,
   "metadata": {},
   "outputs": [
    {
     "output_type": "execute_result",
     "data": {
      "text/plain": "'my change'"
     },
     "metadata": {},
     "execution_count": 1
    }
   ],
   "source": [
    "'my change'"
   ]
  },
  {
   "cell_type": "code",
   "execution_count": 2,
   "metadata": {},
   "outputs": [
    {
     "output_type": "execute_result",
     "data": {
      "text/plain": "'another change'"
     },
     "metadata": {},
     "execution_count": 2
    }
   ],
   "source": [
    "'another change'"
   ]
  },
  {
   "cell_type": "code",
   "execution_count": null,
   "metadata": {},
   "outputs": [],
   "source": []
  }
 ],
 "metadata": {
  "kernelspec": {
   "display_name": "Python 3",
   "language": "python",
   "name": "python3"
  },
  "language_info": {
   "codemirror_mode": {
    "name": "ipython",
    "version": 3
   },
   "file_extension": ".py",
   "mimetype": "text/x-python",
   "name": "python",
   "nbconvert_exporter": "python",
   "pygments_lexer": "ipython3",
   "version": "3.7.6-final"
  }
 },
 "nbformat": 4,
 "nbformat_minor": 4
}